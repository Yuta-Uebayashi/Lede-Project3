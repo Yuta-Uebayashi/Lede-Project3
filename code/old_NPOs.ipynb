{
 "cells": [
  {
   "cell_type": "code",
   "execution_count": 3,
   "id": "f19c24b2-5e07-42e3-8c32-ea3c7c26a589",
   "metadata": {},
   "outputs": [],
   "source": [
    "import pandas as pd\n",
    "\n",
    "# データ読み込み\n",
    "df = pd.read_csv(\"all_NPOs_pandas.csv\")\n",
    "\n",
    "# 「最終更新日」を日付型に変換（例：2025年07月17日）\n",
    "df[\"最終更新日\"] = pd.to_datetime(df[\"最終更新日\"], format=\"%Y年%m月%d日\", errors=\"coerce\")\n",
    "\n",
    "# 2024年6月30日より「前」の団体だけ抽出\n",
    "old_df = df[df[\"最終更新日\"] < pd.Timestamp(\"2024-07-01\")]\n",
    "\n",
    "# 結果を別のCSVとして保存\n",
    "old_df.to_csv(\"old_NPOs_before_2024-07-01.csv\", index=False)"
   ]
  },
  {
   "cell_type": "code",
   "execution_count": null,
   "id": "4fae10b4-ce91-48d9-84ef-a7a405576068",
   "metadata": {},
   "outputs": [],
   "source": []
  }
 ],
 "metadata": {
  "kernelspec": {
   "display_name": "Python 3 (ipykernel)",
   "language": "python",
   "name": "python3"
  },
  "language_info": {
   "codemirror_mode": {
    "name": "ipython",
    "version": 3
   },
   "file_extension": ".py",
   "mimetype": "text/x-python",
   "name": "python",
   "nbconvert_exporter": "python",
   "pygments_lexer": "ipython3",
   "version": "3.11.8"
  }
 },
 "nbformat": 4,
 "nbformat_minor": 5
}
