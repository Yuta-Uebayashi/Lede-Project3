{
 "cells": [
  {
   "cell_type": "markdown",
   "id": "857b748b-1595-4607-a089-45bf5aacc4bc",
   "metadata": {},
   "source": [
    "# Earthquake Data Cleaning and Preparation\n",
    "\n",
    "### This notebook loads earthquake data from a CSV file, converts dates to datetime format, removes unnecessary columns, transforms coordinates into decimal degrees, and renames columns in English for use in GIS tools like QGIS.  "
   ]
  },
  {
   "cell_type": "code",
   "execution_count": 2,
   "id": "faa979f2-0076-4108-a7a0-05bb968e67c0",
   "metadata": {},
   "outputs": [],
   "source": [
    "import pandas as pd"
   ]
  },
  {
   "cell_type": "code",
   "execution_count": 3,
   "id": "5e62208b-bbad-4577-a6bf-bedbd4f5be98",
   "metadata": {},
   "outputs": [
    {
     "data": {
      "text/html": [
       "<div>\n",
       "<style scoped>\n",
       "    .dataframe tbody tr th:only-of-type {\n",
       "        vertical-align: middle;\n",
       "    }\n",
       "\n",
       "    .dataframe tbody tr th {\n",
       "        vertical-align: top;\n",
       "    }\n",
       "\n",
       "    .dataframe thead th {\n",
       "        text-align: right;\n",
       "    }\n",
       "</style>\n",
       "<table border=\"1\" class=\"dataframe\">\n",
       "  <thead>\n",
       "    <tr style=\"text-align: right;\">\n",
       "      <th></th>\n",
       "      <th>地震の発生日</th>\n",
       "      <th>地震の発生時刻</th>\n",
       "      <th>震央地名</th>\n",
       "      <th>緯度</th>\n",
       "      <th>経度</th>\n",
       "      <th>深さ</th>\n",
       "      <th>Ｍ</th>\n",
       "      <th>最大震度</th>\n",
       "    </tr>\n",
       "  </thead>\n",
       "  <tbody>\n",
       "    <tr>\n",
       "      <th>0</th>\n",
       "      <td>2025/07/06</td>\n",
       "      <td>14:07:03.9</td>\n",
       "      <td>トカラ列島近海</td>\n",
       "      <td>29°21.8′N</td>\n",
       "      <td>129°30.7′E</td>\n",
       "      <td>23 km</td>\n",
       "      <td>5.5</td>\n",
       "      <td>震度５強</td>\n",
       "    </tr>\n",
       "    <tr>\n",
       "      <th>1</th>\n",
       "      <td>2025/07/06</td>\n",
       "      <td>14:01:21.3</td>\n",
       "      <td>トカラ列島近海</td>\n",
       "      <td>29°20.9′N</td>\n",
       "      <td>129°30.3′E</td>\n",
       "      <td>21 km</td>\n",
       "      <td>4.9</td>\n",
       "      <td>震度５強</td>\n",
       "    </tr>\n",
       "    <tr>\n",
       "      <th>2</th>\n",
       "      <td>2025/07/05</td>\n",
       "      <td>06:29:39.5</td>\n",
       "      <td>トカラ列島近海</td>\n",
       "      <td>29°20.1′N</td>\n",
       "      <td>129°28.2′E</td>\n",
       "      <td>19 km</td>\n",
       "      <td>5.4</td>\n",
       "      <td>震度５強</td>\n",
       "    </tr>\n",
       "    <tr>\n",
       "      <th>3</th>\n",
       "      <td>2025/07/03</td>\n",
       "      <td>16:13:01.3</td>\n",
       "      <td>トカラ列島近海</td>\n",
       "      <td>29°21.4′N</td>\n",
       "      <td>129°31.3′E</td>\n",
       "      <td>20 km</td>\n",
       "      <td>5.5</td>\n",
       "      <td>震度６弱</td>\n",
       "    </tr>\n",
       "    <tr>\n",
       "      <th>4</th>\n",
       "      <td>2024/08/08</td>\n",
       "      <td>16:42:55.5</td>\n",
       "      <td>日向灘</td>\n",
       "      <td>31°44.2′N</td>\n",
       "      <td>131°43.3′E</td>\n",
       "      <td>31 km</td>\n",
       "      <td>7.1</td>\n",
       "      <td>震度６弱</td>\n",
       "    </tr>\n",
       "  </tbody>\n",
       "</table>\n",
       "</div>"
      ],
      "text/plain": [
       "       地震の発生日     地震の発生時刻     震央地名         緯度          経度     深さ    Ｍ  最大震度\n",
       "0  2025/07/06  14:07:03.9  トカラ列島近海  29°21.8′N  129°30.7′E  23 km  5.5  震度５強\n",
       "1  2025/07/06  14:01:21.3  トカラ列島近海  29°20.9′N  129°30.3′E  21 km  4.9  震度５強\n",
       "2  2025/07/05  06:29:39.5  トカラ列島近海  29°20.1′N  129°28.2′E  19 km  5.4  震度５強\n",
       "3  2025/07/03  16:13:01.3  トカラ列島近海  29°21.4′N  129°31.3′E  20 km  5.5  震度６弱\n",
       "4  2024/08/08  16:42:55.5      日向灘  31°44.2′N  131°43.3′E  31 km  7.1  震度６弱"
      ]
     },
     "execution_count": 3,
     "metadata": {},
     "output_type": "execute_result"
    }
   ],
   "source": [
    "df = pd.read_csv(\"/Users/yuta-uebayashi/Desktop/Lede課題一覧/Lede個人プロジェクト/project3/Data/Earthquake Records Since 2000.csv\")\n",
    "df.head()"
   ]
  },
  {
   "cell_type": "code",
   "execution_count": 4,
   "id": "8d9f07a9-5748-4537-95b5-585986e196a4",
   "metadata": {},
   "outputs": [
    {
     "data": {
      "text/plain": [
       "地震の発生日      object\n",
       "地震の発生時刻     object\n",
       "震央地名        object\n",
       "緯度          object\n",
       "経度          object\n",
       "深さ          object\n",
       "Ｍ          float64\n",
       "最大震度        object\n",
       "dtype: object"
      ]
     },
     "execution_count": 4,
     "metadata": {},
     "output_type": "execute_result"
    }
   ],
   "source": [
    "df.dtypes"
   ]
  },
  {
   "cell_type": "code",
   "execution_count": 5,
   "id": "b55dc1cd-3df3-4dab-a8e4-c2eb7b208529",
   "metadata": {},
   "outputs": [],
   "source": [
    "# データを整形\n",
    "df[\"地震の発生日\"] = pd.to_datetime(df[\"地震の発生日\"])\n",
    "df = df.drop(columns=[\"地震の発生時刻\", \"深さ\", \"最大震度\"])"
   ]
  },
  {
   "cell_type": "code",
   "execution_count": 6,
   "id": "ef24b6e1-a25c-4fa5-a653-11f86c00eac5",
   "metadata": {},
   "outputs": [],
   "source": [
    "# 緯度経度を修正\n",
    "def dms_to_decimal(coord):\n",
    "    \"\"\"\n",
    "    '29°21.8'N' や '129°30.7'E' のような形式を 10進数(float) に変換する\n",
    "    \"\"\"\n",
    "    import re\n",
    "    match = re.match(r\"(\\d+)°(\\d+\\.?\\d*)[′']?([NSEW])\", coord)\n",
    "    if match:\n",
    "        degrees = float(match.group(1))\n",
    "        minutes = float(match.group(2))\n",
    "        direction = match.group(3)\n",
    "\n",
    "        decimal = degrees + minutes / 60\n",
    "\n",
    "        if direction in ['S', 'W']:\n",
    "            decimal *= -1\n",
    "\n",
    "        return decimal\n",
    "    else:\n",
    "        return None"
   ]
  },
  {
   "cell_type": "code",
   "execution_count": 7,
   "id": "932cce90-8d06-4978-ba3e-eace6c14480e",
   "metadata": {},
   "outputs": [
    {
     "data": {
      "text/plain": [
       "地震の発生日    0\n",
       "震央地名      0\n",
       "緯度        0\n",
       "経度        0\n",
       "Ｍ         0\n",
       "dtype: int64"
      ]
     },
     "execution_count": 7,
     "metadata": {},
     "output_type": "execute_result"
    }
   ],
   "source": [
    "df.isnull().sum()"
   ]
  },
  {
   "cell_type": "code",
   "execution_count": 8,
   "id": "64808f07-718e-4401-9c44-3aed713a7ca8",
   "metadata": {},
   "outputs": [],
   "source": [
    "df[\"lat\"] = df[\"緯度\"].apply(dms_to_decimal)\n",
    "df[\"lon\"] = df[\"経度\"].apply(dms_to_decimal)"
   ]
  },
  {
   "cell_type": "code",
   "execution_count": 9,
   "id": "0652536c-81b6-4876-8549-bd940c30830a",
   "metadata": {},
   "outputs": [],
   "source": [
    "#　元データのコラムを削除\n",
    "df = df.drop(columns=[\"緯度\", \"経度\"])"
   ]
  },
  {
   "cell_type": "code",
   "execution_count": 10,
   "id": "8c663015-c236-4739-a06e-4c269258ad9c",
   "metadata": {},
   "outputs": [
    {
     "data": {
      "text/html": [
       "<div>\n",
       "<style scoped>\n",
       "    .dataframe tbody tr th:only-of-type {\n",
       "        vertical-align: middle;\n",
       "    }\n",
       "\n",
       "    .dataframe tbody tr th {\n",
       "        vertical-align: top;\n",
       "    }\n",
       "\n",
       "    .dataframe thead th {\n",
       "        text-align: right;\n",
       "    }\n",
       "</style>\n",
       "<table border=\"1\" class=\"dataframe\">\n",
       "  <thead>\n",
       "    <tr style=\"text-align: right;\">\n",
       "      <th></th>\n",
       "      <th>地震の発生日</th>\n",
       "      <th>震央地名</th>\n",
       "      <th>Ｍ</th>\n",
       "      <th>lat</th>\n",
       "      <th>lon</th>\n",
       "    </tr>\n",
       "  </thead>\n",
       "  <tbody>\n",
       "    <tr>\n",
       "      <th>0</th>\n",
       "      <td>2025-07-06</td>\n",
       "      <td>トカラ列島近海</td>\n",
       "      <td>5.5</td>\n",
       "      <td>29.363333</td>\n",
       "      <td>129.511667</td>\n",
       "    </tr>\n",
       "    <tr>\n",
       "      <th>1</th>\n",
       "      <td>2025-07-06</td>\n",
       "      <td>トカラ列島近海</td>\n",
       "      <td>4.9</td>\n",
       "      <td>29.348333</td>\n",
       "      <td>129.505000</td>\n",
       "    </tr>\n",
       "    <tr>\n",
       "      <th>2</th>\n",
       "      <td>2025-07-05</td>\n",
       "      <td>トカラ列島近海</td>\n",
       "      <td>5.4</td>\n",
       "      <td>29.335000</td>\n",
       "      <td>129.470000</td>\n",
       "    </tr>\n",
       "    <tr>\n",
       "      <th>3</th>\n",
       "      <td>2025-07-03</td>\n",
       "      <td>トカラ列島近海</td>\n",
       "      <td>5.5</td>\n",
       "      <td>29.356667</td>\n",
       "      <td>129.521667</td>\n",
       "    </tr>\n",
       "    <tr>\n",
       "      <th>4</th>\n",
       "      <td>2024-08-08</td>\n",
       "      <td>日向灘</td>\n",
       "      <td>7.1</td>\n",
       "      <td>31.736667</td>\n",
       "      <td>131.721667</td>\n",
       "    </tr>\n",
       "  </tbody>\n",
       "</table>\n",
       "</div>"
      ],
      "text/plain": [
       "      地震の発生日     震央地名    Ｍ        lat         lon\n",
       "0 2025-07-06  トカラ列島近海  5.5  29.363333  129.511667\n",
       "1 2025-07-06  トカラ列島近海  4.9  29.348333  129.505000\n",
       "2 2025-07-05  トカラ列島近海  5.4  29.335000  129.470000\n",
       "3 2025-07-03  トカラ列島近海  5.5  29.356667  129.521667\n",
       "4 2024-08-08      日向灘  7.1  31.736667  131.721667"
      ]
     },
     "execution_count": 10,
     "metadata": {},
     "output_type": "execute_result"
    }
   ],
   "source": [
    "df.head()"
   ]
  },
  {
   "cell_type": "code",
   "execution_count": 11,
   "id": "cc3ec85a-ec39-4acb-98c4-14c94c09397f",
   "metadata": {},
   "outputs": [
    {
     "data": {
      "text/plain": [
       "地震の発生日    datetime64[ns]\n",
       "震央地名              object\n",
       "Ｍ                float64\n",
       "lat              float64\n",
       "lon              float64\n",
       "dtype: object"
      ]
     },
     "execution_count": 11,
     "metadata": {},
     "output_type": "execute_result"
    }
   ],
   "source": [
    "df.dtypes"
   ]
  },
  {
   "cell_type": "code",
   "execution_count": 12,
   "id": "ced9f317-28a7-4c70-a4f6-a089167d061a",
   "metadata": {},
   "outputs": [],
   "source": [
    "# コラム名を変更\n",
    "df = df.rename(columns={\n",
    "    \"地震の発生日\": \"Date\",\n",
    "    \"震央地名\": \"Place\",\n",
    "    \"M\": \"Magnitude\"\n",
    "})"
   ]
  },
  {
   "cell_type": "code",
   "execution_count": 13,
   "id": "f1ce8475-bac4-4a93-a3c4-1a212653ae0e",
   "metadata": {},
   "outputs": [],
   "source": [
    "# ｃｓｖに出力\n",
    "df.to_csv(\"earthquake_cleanning_data.csv\", index=False, encoding=\"utf-8\")"
   ]
  },
  {
   "cell_type": "code",
   "execution_count": null,
   "id": "9fd7a319-34c4-4082-be39-780dbfdfbf93",
   "metadata": {},
   "outputs": [],
   "source": []
  }
 ],
 "metadata": {
  "kernelspec": {
   "display_name": "Python 3 (ipykernel)",
   "language": "python",
   "name": "python3"
  },
  "language_info": {
   "codemirror_mode": {
    "name": "ipython",
    "version": 3
   },
   "file_extension": ".py",
   "mimetype": "text/x-python",
   "name": "python",
   "nbconvert_exporter": "python",
   "pygments_lexer": "ipython3",
   "version": "3.11.8"
  }
 },
 "nbformat": 4,
 "nbformat_minor": 5
}
