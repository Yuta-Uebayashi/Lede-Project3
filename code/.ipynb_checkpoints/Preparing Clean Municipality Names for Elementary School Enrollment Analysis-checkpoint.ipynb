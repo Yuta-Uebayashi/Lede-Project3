{
 "cells": [
  {
   "cell_type": "markdown",
   "id": "811feb28-c459-4eab-a807-942ce320f8e2",
   "metadata": {},
   "source": [
    "# Preparing Clean Municipality Names for Elementary School Enrollment Analysis\n",
    "## This notebook cleans and formats municipality name data from Japanese elementary school statistics by removing leading ID numbers and combining prefecture and municipality names. The cleaned data can then be used for regional analysis of school enrollment trends."
   ]
  },
  {
   "cell_type": "markdown",
   "id": "32c1235a-ef5f-43d9-b785-4ad3e1c2a1ed",
   "metadata": {},
   "source": [
    "## Data of 2013"
   ]
  },
  {
   "cell_type": "code",
   "execution_count": 1,
   "id": "c3eaa6e0-0e99-4354-9a0f-c301a0c04396",
   "metadata": {},
   "outputs": [
    {
     "name": "stdout",
     "output_type": "stream",
     "text": [
      "         市区町村 市区町村名（数字を除去）\n",
      "0  101 札幌市中央区       札幌市中央区\n",
      "1   102 札幌市北区        札幌市北区\n",
      "2   103 札幌市東区        札幌市東区\n",
      "3  104 札幌市白石区       札幌市白石区\n",
      "4  105 札幌市豊平区       札幌市豊平区\n"
     ]
    }
   ],
   "source": [
    "import pandas as pd\n",
    "\n",
    "# CSVファイルなどからデータを読み込む\n",
    "df = pd.read_csv(\"/Users/yuta-uebayashi/Desktop/Lede課題一覧/Lede個人プロジェクト/project3/school_data/elementary_students_by_municipality_2013.csv\")\n",
    "\n",
    "# 「市区町村」列の先頭の数字とスペースを削除\n",
    "df[\"市区町村名（数字を除去）\"] = df[\"市区町村\"].str.replace(r'^\\d+\\s*', '', regex=True)\n",
    "\n",
    "# 結果を表示\n",
    "print(df[[\"市区町村\", \"市区町村名（数字を除去）\"]].head())"
   ]
  },
  {
   "cell_type": "code",
   "execution_count": 2,
   "id": "0f4cdd86-613f-4229-974c-60e14499eb9a",
   "metadata": {},
   "outputs": [
    {
     "name": "stdout",
     "output_type": "stream",
     "text": [
      "  都道府県        市区町村      人数 市区町村名（数字を除去）  市区町村名（フル）\n",
      "0  北海道  101 札幌市中央区   9,265       札幌市中央区  北海道札幌市中央区\n",
      "1  北海道   102 札幌市北区  14,470        札幌市北区   北海道札幌市北区\n",
      "2  北海道   103 札幌市東区  12,035        札幌市東区   北海道札幌市東区\n",
      "3  北海道  104 札幌市白石区   8,874       札幌市白石区  北海道札幌市白石区\n",
      "4  北海道  105 札幌市豊平区   9,616       札幌市豊平区  北海道札幌市豊平区\n"
     ]
    }
   ],
   "source": [
    "# 「都道府県」列と「市区町村（フル）」列を結合して「都道府県＋市区町村」列を作成\n",
    "df[\"市区町村名（フル）\"] = df[\"都道府県\"] + df[\"市区町村名（数字を除去）\"]\n",
    "\n",
    "# 結果を確認\n",
    "print(df.head())"
   ]
  },
  {
   "cell_type": "code",
   "execution_count": 3,
   "id": "3ecdb9a3-c9fe-4691-98dc-38dac9a1823e",
   "metadata": {},
   "outputs": [],
   "source": [
    "# 「人数」のカンマを削ってint型に。欠損値は0として扱う\n",
    "df[\"人数\"] = (\n",
    "    df[\"人数\"]\n",
    "    .str.replace(',', '', regex=False)\n",
    "    .replace('-', '0')\n",
    "    .astype(int)\n",
    ")"
   ]
  },
  {
   "cell_type": "code",
   "execution_count": 4,
   "id": "3e8b2c28-eaa8-4d7f-a9fc-75f784c9af42",
   "metadata": {},
   "outputs": [
    {
     "name": "stdout",
     "output_type": "stream",
     "text": [
      "都道府県            object\n",
      "市区町村            object\n",
      "人数               int64\n",
      "市区町村名（数字を除去）    object\n",
      "市区町村名（フル）       object\n",
      "dtype: object\n"
     ]
    }
   ],
   "source": [
    "print(df.dtypes)"
   ]
  },
  {
   "cell_type": "code",
   "execution_count": 5,
   "id": "1876cc49-88be-4e12-87df-59fb2a2a8421",
   "metadata": {},
   "outputs": [],
   "source": [
    "# 不要な列を除いて保存\n",
    "df_cleaned = df[[\"都道府県\", \"市区町村名（フル）\", \"人数\"]]\n",
    "\n",
    "# CSVに保存\n",
    "df_cleaned.to_csv(\"elementary_student_by_municipality_2013.csv\", index=False, encoding='utf-8-sig')"
   ]
  },
  {
   "cell_type": "code",
   "execution_count": null,
   "id": "996e7e3e-4710-432f-aea2-1c265f4d820c",
   "metadata": {},
   "outputs": [],
   "source": []
  },
  {
   "cell_type": "markdown",
   "id": "9d7162b9-d59f-4a21-8be4-59b8e50e33ff",
   "metadata": {},
   "source": [
    "## Data of 2023"
   ]
  },
  {
   "cell_type": "code",
   "execution_count": 19,
   "id": "df55f5b5-4e84-4554-bd7b-d8b8d1ac2df6",
   "metadata": {},
   "outputs": [
    {
     "data": {
      "text/html": [
       "<div>\n",
       "<style scoped>\n",
       "    .dataframe tbody tr th:only-of-type {\n",
       "        vertical-align: middle;\n",
       "    }\n",
       "\n",
       "    .dataframe tbody tr th {\n",
       "        vertical-align: top;\n",
       "    }\n",
       "\n",
       "    .dataframe thead th {\n",
       "        text-align: right;\n",
       "    }\n",
       "</style>\n",
       "<table border=\"1\" class=\"dataframe\">\n",
       "  <thead>\n",
       "    <tr style=\"text-align: right;\">\n",
       "      <th></th>\n",
       "      <th>都道府県</th>\n",
       "      <th>市区町村</th>\n",
       "      <th>市区町村名（フル）</th>\n",
       "      <th>人数</th>\n",
       "    </tr>\n",
       "  </thead>\n",
       "  <tbody>\n",
       "    <tr>\n",
       "      <th>0</th>\n",
       "      <td>北海道</td>\n",
       "      <td>札幌市中央区</td>\n",
       "      <td>NaN</td>\n",
       "      <td>9726</td>\n",
       "    </tr>\n",
       "    <tr>\n",
       "      <th>1</th>\n",
       "      <td>北海道</td>\n",
       "      <td>札幌市北区</td>\n",
       "      <td>NaN</td>\n",
       "      <td>14474</td>\n",
       "    </tr>\n",
       "    <tr>\n",
       "      <th>2</th>\n",
       "      <td>北海道</td>\n",
       "      <td>札幌市東区</td>\n",
       "      <td>NaN</td>\n",
       "      <td>11687</td>\n",
       "    </tr>\n",
       "    <tr>\n",
       "      <th>3</th>\n",
       "      <td>北海道</td>\n",
       "      <td>札幌市白石区</td>\n",
       "      <td>NaN</td>\n",
       "      <td>8559</td>\n",
       "    </tr>\n",
       "    <tr>\n",
       "      <th>4</th>\n",
       "      <td>北海道</td>\n",
       "      <td>札幌市豊平区</td>\n",
       "      <td>NaN</td>\n",
       "      <td>9735</td>\n",
       "    </tr>\n",
       "  </tbody>\n",
       "</table>\n",
       "</div>"
      ],
      "text/plain": [
       "  都道府県    市区町村  市区町村名（フル）     人数\n",
       "0  北海道  札幌市中央区        NaN   9726\n",
       "1  北海道   札幌市北区        NaN  14474\n",
       "2  北海道   札幌市東区        NaN  11687\n",
       "3  北海道  札幌市白石区        NaN   8559\n",
       "4  北海道  札幌市豊平区        NaN   9735"
      ]
     },
     "execution_count": 19,
     "metadata": {},
     "output_type": "execute_result"
    }
   ],
   "source": [
    "# CSVファイルなどからデータを読み込む\n",
    "df = pd.read_csv(\"/Users/yuta-uebayashi/Desktop/Lede課題一覧/Lede個人プロジェクト/project3/school_data/elementary_students_by_municipality_2023.csv\")\n",
    "df.head()"
   ]
  },
  {
   "cell_type": "code",
   "execution_count": 20,
   "id": "d86f0414-06a9-44ff-be3d-d1245f71faa2",
   "metadata": {},
   "outputs": [
    {
     "name": "stdout",
     "output_type": "stream",
     "text": [
      "  都道府県    市区町村  市区町村名（フル）     人数      市区町村名\n",
      "0  北海道  札幌市中央区        NaN   9726  北海道札幌市中央区\n",
      "1  北海道   札幌市北区        NaN  14474   北海道札幌市北区\n",
      "2  北海道   札幌市東区        NaN  11687   北海道札幌市東区\n",
      "3  北海道  札幌市白石区        NaN   8559  北海道札幌市白石区\n",
      "4  北海道  札幌市豊平区        NaN   9735  北海道札幌市豊平区\n"
     ]
    }
   ],
   "source": [
    "# 「都道府県」列と「市区町村（フル）」列を結合して「都道府県＋市区町村」列を作成\n",
    "df[\"市区町村名\"] = df[\"都道府県\"] + df[\"市区町村\"]\n",
    "\n",
    "# 結果を確認\n",
    "print(df.head())"
   ]
  },
  {
   "cell_type": "code",
   "execution_count": 21,
   "id": "6d8964c5-428b-43b8-b989-90824035528f",
   "metadata": {},
   "outputs": [],
   "source": [
    "# 「人数」列を数値に変換（文字列から整数へ）\n",
    "df[\"人数\"] = pd.to_numeric(df[\"人数\"], errors='coerce')"
   ]
  },
  {
   "cell_type": "code",
   "execution_count": 22,
   "id": "a83778bc-00e6-46bd-9ed9-79f8dc4298eb",
   "metadata": {},
   "outputs": [
    {
     "name": "stdout",
     "output_type": "stream",
     "text": [
      "都道府県          object\n",
      "市区町村          object\n",
      "市区町村名（フル）    float64\n",
      "人数           float64\n",
      "市区町村名         object\n",
      "dtype: object\n"
     ]
    }
   ],
   "source": [
    "print(df.dtypes)"
   ]
  },
  {
   "cell_type": "code",
   "execution_count": 23,
   "id": "24f9dc6c-4d10-4edd-8457-4abee5618e9c",
   "metadata": {},
   "outputs": [],
   "source": [
    "# 不要な列を除いて保存\n",
    "df_cleaned = df[[\"市区町村名\",  \"人数\"]]\n",
    "\n",
    "# CSVに保存\n",
    "df_cleaned.to_csv(\"elementary_student_by_municipality_2023.csv\", index=False, encoding='utf-8-sig')"
   ]
  },
  {
   "cell_type": "code",
   "execution_count": null,
   "id": "6820b3f8-4a4d-4933-80d8-c0c178419f16",
   "metadata": {},
   "outputs": [],
   "source": []
  }
 ],
 "metadata": {
  "kernelspec": {
   "display_name": "Python 3 (ipykernel)",
   "language": "python",
   "name": "python3"
  },
  "language_info": {
   "codemirror_mode": {
    "name": "ipython",
    "version": 3
   },
   "file_extension": ".py",
   "mimetype": "text/x-python",
   "name": "python",
   "nbconvert_exporter": "python",
   "pygments_lexer": "ipython3",
   "version": "3.11.8"
  }
 },
 "nbformat": 4,
 "nbformat_minor": 5
}
