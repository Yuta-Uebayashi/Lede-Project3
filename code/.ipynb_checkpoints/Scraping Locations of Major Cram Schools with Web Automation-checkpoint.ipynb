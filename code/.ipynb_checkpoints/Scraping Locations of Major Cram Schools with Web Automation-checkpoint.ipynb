{
 "cells": [
  {
   "cell_type": "markdown",
   "id": "75c7a948-5011-4fab-8665-c49af08a3f1e",
   "metadata": {},
   "source": [
    "# Overview  \n",
    "### This notebook scrapes a list of cram school locations from the official website using web automation techniques."
   ]
  },
  {
   "cell_type": "code",
   "execution_count": 39,
   "id": "5ee1c534-e8f6-475a-8dba-f7f738b67521",
   "metadata": {},
   "outputs": [],
   "source": [
    "#Playwrightを導入\n",
    "import os\n",
    "import random\n",
    "import time\n",
    "from playwright.async_api import async_playwright,expect"
   ]
  },
  {
   "cell_type": "code",
   "execution_count": 40,
   "id": "4f3b7a34-3039-4550-94ee-93da3adc0a6d",
   "metadata": {},
   "outputs": [],
   "source": [
    "#ディレクトリを作成\n",
    "os.makedirs('/Users/yuta-uebayashi/Desktop/Lede課題一覧/Lede個人プロジェクト/project3/cram_school', exist_ok=True)"
   ]
  },
  {
   "cell_type": "code",
   "execution_count": 41,
   "id": "2004801c-cc85-457e-b686-7734bdf05396",
   "metadata": {},
   "outputs": [],
   "source": [
    "async def open_browser(headless=False):\n",
    "    playwright = await async_playwright().start()\n",
    "    browser = await playwright.chromium.launch(headless=headless)\n",
    "    context = await browser.new_context()\n",
    "    page = await browser.new_page()\n",
    "    return browser, page"
   ]
  },
  {
   "cell_type": "code",
   "execution_count": 42,
   "id": "5dc68eca-4dbd-41bd-9afb-e8eca6cd704c",
   "metadata": {},
   "outputs": [],
   "source": [
    "browser, page = await open_browser()"
   ]
  },
  {
   "cell_type": "code",
   "execution_count": 43,
   "id": "833f5529-a3b3-49ed-b385-64c2e5c75525",
   "metadata": {},
   "outputs": [
    {
     "ename": "TimeoutError",
     "evalue": "Page.goto: Timeout 30000ms exceeded.\nCall log:\n  - navigating to \"https://www.toshin.com/map/?top=1\", waiting until \"load\"\n",
     "output_type": "error",
     "traceback": [
      "\u001b[0;31m---------------------------------------------------------------------------\u001b[0m",
      "\u001b[0;31mTimeoutError\u001b[0m                              Traceback (most recent call last)",
      "Cell \u001b[0;32mIn[43], line 2\u001b[0m\n\u001b[1;32m      1\u001b[0m url \u001b[38;5;241m=\u001b[39m \u001b[38;5;124m'\u001b[39m\u001b[38;5;124mhttps://www.toshin.com/map/?top=1\u001b[39m\u001b[38;5;124m'\u001b[39m\n\u001b[0;32m----> 2\u001b[0m \u001b[38;5;28;01mawait\u001b[39;00m page\u001b[38;5;241m.\u001b[39mgoto(url)\n",
      "File \u001b[0;32m~/.pyenv/versions/3.11.8/lib/python3.11/site-packages/playwright/async_api/_generated.py:8975\u001b[0m, in \u001b[0;36mPage.goto\u001b[0;34m(self, url, timeout, wait_until, referer)\u001b[0m\n\u001b[1;32m   8914\u001b[0m \u001b[38;5;28;01masync\u001b[39;00m \u001b[38;5;28;01mdef\u001b[39;00m\u001b[38;5;250m \u001b[39m\u001b[38;5;21mgoto\u001b[39m(\n\u001b[1;32m   8915\u001b[0m     \u001b[38;5;28mself\u001b[39m,\n\u001b[1;32m   8916\u001b[0m     url: \u001b[38;5;28mstr\u001b[39m,\n\u001b[0;32m   (...)\u001b[0m\n\u001b[1;32m   8922\u001b[0m     referer: typing\u001b[38;5;241m.\u001b[39mOptional[\u001b[38;5;28mstr\u001b[39m] \u001b[38;5;241m=\u001b[39m \u001b[38;5;28;01mNone\u001b[39;00m,\n\u001b[1;32m   8923\u001b[0m ) \u001b[38;5;241m-\u001b[39m\u001b[38;5;241m>\u001b[39m typing\u001b[38;5;241m.\u001b[39mOptional[\u001b[38;5;124m\"\u001b[39m\u001b[38;5;124mResponse\u001b[39m\u001b[38;5;124m\"\u001b[39m]:\n\u001b[1;32m   8924\u001b[0m \u001b[38;5;250m    \u001b[39m\u001b[38;5;124;03m\"\"\"Page.goto\u001b[39;00m\n\u001b[1;32m   8925\u001b[0m \n\u001b[1;32m   8926\u001b[0m \u001b[38;5;124;03m    Returns the main resource response. In case of multiple redirects, the navigation will resolve with the first\u001b[39;00m\n\u001b[0;32m   (...)\u001b[0m\n\u001b[1;32m   8971\u001b[0m \u001b[38;5;124;03m    Union[Response, None]\u001b[39;00m\n\u001b[1;32m   8972\u001b[0m \u001b[38;5;124;03m    \"\"\"\u001b[39;00m\n\u001b[1;32m   8974\u001b[0m     \u001b[38;5;28;01mreturn\u001b[39;00m mapping\u001b[38;5;241m.\u001b[39mfrom_impl_nullable(\n\u001b[0;32m-> 8975\u001b[0m         \u001b[38;5;28;01mawait\u001b[39;00m \u001b[38;5;28mself\u001b[39m\u001b[38;5;241m.\u001b[39m_impl_obj\u001b[38;5;241m.\u001b[39mgoto(\n\u001b[1;32m   8976\u001b[0m             url\u001b[38;5;241m=\u001b[39murl, timeout\u001b[38;5;241m=\u001b[39mtimeout, waitUntil\u001b[38;5;241m=\u001b[39mwait_until, referer\u001b[38;5;241m=\u001b[39mreferer\n\u001b[1;32m   8977\u001b[0m         )\n\u001b[1;32m   8978\u001b[0m     )\n",
      "File \u001b[0;32m~/.pyenv/versions/3.11.8/lib/python3.11/site-packages/playwright/_impl/_page.py:556\u001b[0m, in \u001b[0;36mPage.goto\u001b[0;34m(self, url, timeout, waitUntil, referer)\u001b[0m\n\u001b[1;32m    549\u001b[0m \u001b[38;5;28;01masync\u001b[39;00m \u001b[38;5;28;01mdef\u001b[39;00m\u001b[38;5;250m \u001b[39m\u001b[38;5;21mgoto\u001b[39m(\n\u001b[1;32m    550\u001b[0m     \u001b[38;5;28mself\u001b[39m,\n\u001b[1;32m    551\u001b[0m     url: \u001b[38;5;28mstr\u001b[39m,\n\u001b[0;32m   (...)\u001b[0m\n\u001b[1;32m    554\u001b[0m     referer: \u001b[38;5;28mstr\u001b[39m \u001b[38;5;241m=\u001b[39m \u001b[38;5;28;01mNone\u001b[39;00m,\n\u001b[1;32m    555\u001b[0m ) \u001b[38;5;241m-\u001b[39m\u001b[38;5;241m>\u001b[39m Optional[Response]:\n\u001b[0;32m--> 556\u001b[0m     \u001b[38;5;28;01mreturn\u001b[39;00m \u001b[38;5;28;01mawait\u001b[39;00m \u001b[38;5;28mself\u001b[39m\u001b[38;5;241m.\u001b[39m_main_frame\u001b[38;5;241m.\u001b[39mgoto(\u001b[38;5;241m*\u001b[39m\u001b[38;5;241m*\u001b[39mlocals_to_params(\u001b[38;5;28mlocals\u001b[39m()))\n",
      "File \u001b[0;32m~/.pyenv/versions/3.11.8/lib/python3.11/site-packages/playwright/_impl/_frame.py:146\u001b[0m, in \u001b[0;36mFrame.goto\u001b[0;34m(self, url, timeout, waitUntil, referer)\u001b[0m\n\u001b[1;32m    136\u001b[0m \u001b[38;5;28;01masync\u001b[39;00m \u001b[38;5;28;01mdef\u001b[39;00m\u001b[38;5;250m \u001b[39m\u001b[38;5;21mgoto\u001b[39m(\n\u001b[1;32m    137\u001b[0m     \u001b[38;5;28mself\u001b[39m,\n\u001b[1;32m    138\u001b[0m     url: \u001b[38;5;28mstr\u001b[39m,\n\u001b[0;32m   (...)\u001b[0m\n\u001b[1;32m    141\u001b[0m     referer: \u001b[38;5;28mstr\u001b[39m \u001b[38;5;241m=\u001b[39m \u001b[38;5;28;01mNone\u001b[39;00m,\n\u001b[1;32m    142\u001b[0m ) \u001b[38;5;241m-\u001b[39m\u001b[38;5;241m>\u001b[39m Optional[Response]:\n\u001b[1;32m    143\u001b[0m     \u001b[38;5;28;01mreturn\u001b[39;00m cast(\n\u001b[1;32m    144\u001b[0m         Optional[Response],\n\u001b[1;32m    145\u001b[0m         from_nullable_channel(\n\u001b[0;32m--> 146\u001b[0m             \u001b[38;5;28;01mawait\u001b[39;00m \u001b[38;5;28mself\u001b[39m\u001b[38;5;241m.\u001b[39m_channel\u001b[38;5;241m.\u001b[39msend(\n\u001b[1;32m    147\u001b[0m                 \u001b[38;5;124m\"\u001b[39m\u001b[38;5;124mgoto\u001b[39m\u001b[38;5;124m\"\u001b[39m, \u001b[38;5;28mself\u001b[39m\u001b[38;5;241m.\u001b[39m_navigation_timeout, locals_to_params(\u001b[38;5;28mlocals\u001b[39m())\n\u001b[1;32m    148\u001b[0m             )\n\u001b[1;32m    149\u001b[0m         ),\n\u001b[1;32m    150\u001b[0m     )\n",
      "File \u001b[0;32m~/.pyenv/versions/3.11.8/lib/python3.11/site-packages/playwright/_impl/_connection.py:69\u001b[0m, in \u001b[0;36mChannel.send\u001b[0;34m(self, method, timeout_calculator, params, is_internal, title)\u001b[0m\n\u001b[1;32m     61\u001b[0m \u001b[38;5;28;01masync\u001b[39;00m \u001b[38;5;28;01mdef\u001b[39;00m\u001b[38;5;250m \u001b[39m\u001b[38;5;21msend\u001b[39m(\n\u001b[1;32m     62\u001b[0m     \u001b[38;5;28mself\u001b[39m,\n\u001b[1;32m     63\u001b[0m     method: \u001b[38;5;28mstr\u001b[39m,\n\u001b[0;32m   (...)\u001b[0m\n\u001b[1;32m     67\u001b[0m     title: \u001b[38;5;28mstr\u001b[39m \u001b[38;5;241m=\u001b[39m \u001b[38;5;28;01mNone\u001b[39;00m,\n\u001b[1;32m     68\u001b[0m ) \u001b[38;5;241m-\u001b[39m\u001b[38;5;241m>\u001b[39m Any:\n\u001b[0;32m---> 69\u001b[0m     \u001b[38;5;28;01mreturn\u001b[39;00m \u001b[38;5;28;01mawait\u001b[39;00m \u001b[38;5;28mself\u001b[39m\u001b[38;5;241m.\u001b[39m_connection\u001b[38;5;241m.\u001b[39mwrap_api_call(\n\u001b[1;32m     70\u001b[0m         \u001b[38;5;28;01mlambda\u001b[39;00m: \u001b[38;5;28mself\u001b[39m\u001b[38;5;241m.\u001b[39m_inner_send(method, timeout_calculator, params, \u001b[38;5;28;01mFalse\u001b[39;00m),\n\u001b[1;32m     71\u001b[0m         is_internal,\n\u001b[1;32m     72\u001b[0m         title,\n\u001b[1;32m     73\u001b[0m     )\n",
      "File \u001b[0;32m~/.pyenv/versions/3.11.8/lib/python3.11/site-packages/playwright/_impl/_connection.py:558\u001b[0m, in \u001b[0;36mConnection.wrap_api_call\u001b[0;34m(self, cb, is_internal, title)\u001b[0m\n\u001b[1;32m    556\u001b[0m     \u001b[38;5;28;01mreturn\u001b[39;00m \u001b[38;5;28;01mawait\u001b[39;00m cb()\n\u001b[1;32m    557\u001b[0m \u001b[38;5;28;01mexcept\u001b[39;00m \u001b[38;5;167;01mException\u001b[39;00m \u001b[38;5;28;01mas\u001b[39;00m error:\n\u001b[0;32m--> 558\u001b[0m     \u001b[38;5;28;01mraise\u001b[39;00m rewrite_error(error, \u001b[38;5;124mf\u001b[39m\u001b[38;5;124m\"\u001b[39m\u001b[38;5;132;01m{\u001b[39;00mparsed_st[\u001b[38;5;124m'\u001b[39m\u001b[38;5;124mapiName\u001b[39m\u001b[38;5;124m'\u001b[39m]\u001b[38;5;132;01m}\u001b[39;00m\u001b[38;5;124m: \u001b[39m\u001b[38;5;132;01m{\u001b[39;00merror\u001b[38;5;132;01m}\u001b[39;00m\u001b[38;5;124m\"\u001b[39m) \u001b[38;5;28;01mfrom\u001b[39;00m\u001b[38;5;250m \u001b[39m\u001b[38;5;28;01mNone\u001b[39;00m\n\u001b[1;32m    559\u001b[0m \u001b[38;5;28;01mfinally\u001b[39;00m:\n\u001b[1;32m    560\u001b[0m     \u001b[38;5;28mself\u001b[39m\u001b[38;5;241m.\u001b[39m_api_zone\u001b[38;5;241m.\u001b[39mset(\u001b[38;5;28;01mNone\u001b[39;00m)\n",
      "\u001b[0;31mTimeoutError\u001b[0m: Page.goto: Timeout 30000ms exceeded.\nCall log:\n  - navigating to \"https://www.toshin.com/map/?top=1\", waiting until \"load\"\n"
     ]
    }
   ],
   "source": [
    "url = 'https://www.toshin.com/map/?top=1'\n",
    "await page.goto(url)"
   ]
  },
  {
   "cell_type": "code",
   "execution_count": 44,
   "id": "5edf3c89-17ea-4b14-aacc-282820a5126d",
   "metadata": {},
   "outputs": [],
   "source": [
    "# 検索ボタンのXPATHを指定\n",
    "xpath_search_botton = '//div[@class=\"clear-all\"]/preceding-sibling::div[1]/input[@type=\"submit\" and @value=\"検索\"]'"
   ]
  },
  {
   "cell_type": "code",
   "execution_count": 45,
   "id": "2ee4c334-dc2e-4449-b811-2004b97f0d53",
   "metadata": {},
   "outputs": [],
   "source": [
    "search_button = page.locator(xpath_search_botton)"
   ]
  },
  {
   "cell_type": "code",
   "execution_count": 46,
   "id": "149dbb10-96fd-4f01-a04b-126371c8befe",
   "metadata": {},
   "outputs": [],
   "source": [
    "await search_button.click()"
   ]
  },
  {
   "cell_type": "code",
   "execution_count": 47,
   "id": "d4bd5fa5-f466-4f00-ac6b-7a2aead20775",
   "metadata": {},
   "outputs": [],
   "source": [
    "#セーブ\n",
    "source = await page.content()\n",
    "with open('/Users/yuta-uebayashi/Desktop/Lede課題一覧/Lede個人プロジェクト/project3/cram_school/cram_schools.html', 'w') as f:\n",
    "    f.write(source)"
   ]
  },
  {
   "cell_type": "code",
   "execution_count": 48,
   "id": "3821f046-b889-4292-a37c-44836bf63889",
   "metadata": {},
   "outputs": [],
   "source": [
    "# 「次ページ」のXPATHを指定\n",
    "xpath_next = '//div[@id=\"result-next\"]'"
   ]
  },
  {
   "cell_type": "code",
   "execution_count": 49,
   "id": "c44946aa-6f9b-4f9e-9e23-6c8ba66f0387",
   "metadata": {},
   "outputs": [],
   "source": [
    "# 表のXPATHを指定\n",
    "xpath_result = '//table'"
   ]
  },
  {
   "cell_type": "code",
   "execution_count": 50,
   "id": "fbfa8f10-3306-480a-980e-3905a5d58738",
   "metadata": {},
   "outputs": [],
   "source": [
    "next_button = page.locator(xpath_next)"
   ]
  },
  {
   "cell_type": "code",
   "execution_count": 51,
   "id": "993c17d3-63f3-4de7-8c81-428464b9355c",
   "metadata": {},
   "outputs": [],
   "source": [
    "await next_button.click()"
   ]
  },
  {
   "cell_type": "code",
   "execution_count": 52,
   "id": "04c75460-33e0-4a16-bfd3-6412ac6d8700",
   "metadata": {},
   "outputs": [
    {
     "name": "stdout",
     "output_type": "stream",
     "text": [
      "停止しました: Locator expected to be visible\n",
      "Actual value: hidden \n",
      "Call log:\n",
      "  - Expect \"to_be_visible\" with timeout 1000ms\n",
      "  - waiting for locator(\"//div[@id=\\\"result-next\\\"]\")\n",
      "    5 × locator resolved to <div id=\"result-next\" onclick=\"showNext( 15,972 );\">次のページ</div>\n",
      "      - unexpected value \"hidden\"\n",
      "\n"
     ]
    }
   ],
   "source": [
    "# 最初のページを保存\n",
    "i = 1\n",
    "source = await page.content()\n",
    "file_path = f'/Users/yuta-uebayashi/Desktop/Lede課題一覧/Lede個人プロジェクト/project3/cram_school/page_{i}.html'\n",
    "with open(file_path, 'w') as f:\n",
    "    f.write(source)\n",
    "\n",
    "# 次のページ以降を繰り返し取得\n",
    "collect = True\n",
    "\n",
    "while collect:\n",
    "    try:\n",
    "        await expect(page.locator(xpath_next)).to_be_visible(timeout=1000)\n",
    "        next_button = page.locator(xpath_next)\n",
    "        await next_button.click()\n",
    "\n",
    "        await page.locator(xpath_result).is_visible()\n",
    "\n",
    "        i += 1  # ページ番号を更新（1ページ目は保存済み）\n",
    "\n",
    "        source = await page.content()\n",
    "        file_path = f'/Users/yuta-uebayashi/Desktop/Lede課題一覧/Lede個人プロジェクト/project3/cram_school/page_{i}.html'\n",
    "        with open(file_path, 'w') as f:\n",
    "            f.write(source)\n",
    "\n",
    "    except Exception as e:\n",
    "        print(f\"停止しました: {e}\")\n",
    "        collect = False\n",
    "        break"
   ]
  },
  {
   "cell_type": "markdown",
   "id": "6cde4fc0-5061-4254-b903-6f56ca8bc4c9",
   "metadata": {},
   "source": [
    "## Extract Data for All Organizations Using Pandas"
   ]
  },
  {
   "cell_type": "code",
   "execution_count": 62,
   "id": "ae7fa09e-0257-4e50-9483-1829e450e858",
   "metadata": {},
   "outputs": [
    {
     "name": "stdout",
     "output_type": "stream",
     "text": [
      "(972, 2)\n"
     ]
    },
    {
     "data": {
      "text/html": [
       "<div>\n",
       "<style scoped>\n",
       "    .dataframe tbody tr th:only-of-type {\n",
       "        vertical-align: middle;\n",
       "    }\n",
       "\n",
       "    .dataframe tbody tr th {\n",
       "        vertical-align: top;\n",
       "    }\n",
       "\n",
       "    .dataframe thead th {\n",
       "        text-align: right;\n",
       "    }\n",
       "</style>\n",
       "<table border=\"1\" class=\"dataframe\">\n",
       "  <thead>\n",
       "    <tr style=\"text-align: right;\">\n",
       "      <th></th>\n",
       "      <th>校舎名</th>\n",
       "      <th>住所</th>\n",
       "    </tr>\n",
       "  </thead>\n",
       "  <tbody>\n",
       "    <tr>\n",
       "      <th>0</th>\n",
       "      <td>東進ハイスクール市ヶ谷校 (現役生対象)</td>\n",
       "      <td>〒102-0076　東京都　千代田区 五番町5-1　JS市ヶ谷ビルB1F</td>\n",
       "    </tr>\n",
       "    <tr>\n",
       "      <th>1</th>\n",
       "      <td>東進ハイスクール人形町校 (現役生対象)</td>\n",
       "      <td>〒103-0012　東京都　中央区 日本橋堀留町1-8-12</td>\n",
       "    </tr>\n",
       "    <tr>\n",
       "      <th>2</th>\n",
       "      <td>東進ハイスクール勝どき駅上校 (現役生対象)</td>\n",
       "      <td>〒104-0054　東京都　中央区 勝どき1-7-1　勝どきサンスクェア3F</td>\n",
       "    </tr>\n",
       "    <tr>\n",
       "      <th>3</th>\n",
       "      <td>東進ハイスクール茗荷谷校 (現役生対象)</td>\n",
       "      <td>〒112-0006　東京都　文京区 小日向4-6-12　茗荷谷駅MFビル（駅ビル）4F</td>\n",
       "    </tr>\n",
       "    <tr>\n",
       "      <th>4</th>\n",
       "      <td>東進ハイスクール本郷三丁目校 (現役生対象)</td>\n",
       "      <td>〒113-0033　東京都　文京区 本郷3-34-3　本郷第一ビル6F</td>\n",
       "    </tr>\n",
       "  </tbody>\n",
       "</table>\n",
       "</div>"
      ],
      "text/plain": [
       "                      校舎名                                           住所\n",
       "0    東進ハイスクール市ヶ谷校 (現役生対象)         〒102-0076　東京都　千代田区 五番町5-1　JS市ヶ谷ビルB1F\n",
       "1    東進ハイスクール人形町校 (現役生対象)               〒103-0012　東京都　中央区 日本橋堀留町1-8-12\n",
       "2  東進ハイスクール勝どき駅上校 (現役生対象)       〒104-0054　東京都　中央区 勝どき1-7-1　勝どきサンスクェア3F\n",
       "3    東進ハイスクール茗荷谷校 (現役生対象)  〒112-0006　東京都　文京区 小日向4-6-12　茗荷谷駅MFビル（駅ビル）4F\n",
       "4  東進ハイスクール本郷三丁目校 (現役生対象)          〒113-0033　東京都　文京区 本郷3-34-3　本郷第一ビル6F"
      ]
     },
     "metadata": {},
     "output_type": "display_data"
    }
   ],
   "source": [
    "import pandas as pd\n",
    "import glob\n",
    "\n",
    "# ファイルのパスをまとめて取得\n",
    "files = sorted(glob.glob('/Users/yuta-uebayashi/Desktop/Lede課題一覧/Lede個人プロジェクト/project3/cram_school/page*.html'))\n",
    "\n",
    "# データを格納するリスト\n",
    "all_tables = []\n",
    "\n",
    "for fn in files:\n",
    "    tables = pd.read_html(fn)  # 各HTML内のすべてのテーブルを抽出\n",
    "    if tables:  # 少なくとも1つあれば\n",
    "        df = tables[0]  # 通常は1ページに1つだけ\n",
    "        all_tables.append(df)\n",
    "\n",
    "# すべてのテーブルを1つのDataFrameに結合\n",
    "full_df = pd.concat(all_tables, ignore_index=True)\n",
    "\n",
    "# 確認\n",
    "print(full_df.shape)\n",
    "display(full_df.head())"
   ]
  },
  {
   "cell_type": "code",
   "execution_count": 63,
   "id": "8ee097a3-fbd8-4394-8ae9-c51fbe33cb66",
   "metadata": {},
   "outputs": [],
   "source": [
    "# 列名を変更\n",
    "full_df.columns = ['Campus Name', 'Address']"
   ]
  },
  {
   "cell_type": "code",
   "execution_count": 64,
   "id": "d75ed782-de9b-4314-8e33-4afc5d9d8494",
   "metadata": {},
   "outputs": [
    {
     "data": {
      "text/html": [
       "<div>\n",
       "<style scoped>\n",
       "    .dataframe tbody tr th:only-of-type {\n",
       "        vertical-align: middle;\n",
       "    }\n",
       "\n",
       "    .dataframe tbody tr th {\n",
       "        vertical-align: top;\n",
       "    }\n",
       "\n",
       "    .dataframe thead th {\n",
       "        text-align: right;\n",
       "    }\n",
       "</style>\n",
       "<table border=\"1\" class=\"dataframe\">\n",
       "  <thead>\n",
       "    <tr style=\"text-align: right;\">\n",
       "      <th></th>\n",
       "      <th>Campus Name</th>\n",
       "      <th>Address</th>\n",
       "    </tr>\n",
       "  </thead>\n",
       "  <tbody>\n",
       "    <tr>\n",
       "      <th>0</th>\n",
       "      <td>東進ハイスクール市ヶ谷校 (現役生対象)</td>\n",
       "      <td>〒102-0076　東京都　千代田区 五番町5-1　JS市ヶ谷ビルB1F</td>\n",
       "    </tr>\n",
       "    <tr>\n",
       "      <th>1</th>\n",
       "      <td>東進ハイスクール人形町校 (現役生対象)</td>\n",
       "      <td>〒103-0012　東京都　中央区 日本橋堀留町1-8-12</td>\n",
       "    </tr>\n",
       "    <tr>\n",
       "      <th>2</th>\n",
       "      <td>東進ハイスクール勝どき駅上校 (現役生対象)</td>\n",
       "      <td>〒104-0054　東京都　中央区 勝どき1-7-1　勝どきサンスクェア3F</td>\n",
       "    </tr>\n",
       "    <tr>\n",
       "      <th>3</th>\n",
       "      <td>東進ハイスクール茗荷谷校 (現役生対象)</td>\n",
       "      <td>〒112-0006　東京都　文京区 小日向4-6-12　茗荷谷駅MFビル（駅ビル）4F</td>\n",
       "    </tr>\n",
       "    <tr>\n",
       "      <th>4</th>\n",
       "      <td>東進ハイスクール本郷三丁目校 (現役生対象)</td>\n",
       "      <td>〒113-0033　東京都　文京区 本郷3-34-3　本郷第一ビル6F</td>\n",
       "    </tr>\n",
       "  </tbody>\n",
       "</table>\n",
       "</div>"
      ],
      "text/plain": [
       "              Campus Name                                      Address\n",
       "0    東進ハイスクール市ヶ谷校 (現役生対象)         〒102-0076　東京都　千代田区 五番町5-1　JS市ヶ谷ビルB1F\n",
       "1    東進ハイスクール人形町校 (現役生対象)               〒103-0012　東京都　中央区 日本橋堀留町1-8-12\n",
       "2  東進ハイスクール勝どき駅上校 (現役生対象)       〒104-0054　東京都　中央区 勝どき1-7-1　勝どきサンスクェア3F\n",
       "3    東進ハイスクール茗荷谷校 (現役生対象)  〒112-0006　東京都　文京区 小日向4-6-12　茗荷谷駅MFビル（駅ビル）4F\n",
       "4  東進ハイスクール本郷三丁目校 (現役生対象)          〒113-0033　東京都　文京区 本郷3-34-3　本郷第一ビル6F"
      ]
     },
     "execution_count": 64,
     "metadata": {},
     "output_type": "execute_result"
    }
   ],
   "source": [
    "full_df.head()"
   ]
  },
  {
   "cell_type": "code",
   "execution_count": 66,
   "id": "e0472df6-c85b-46ae-bc6e-0e69512479e0",
   "metadata": {},
   "outputs": [],
   "source": [
    "# CSVに保存\n",
    "full_df.to_csv('/Users/yuta-uebayashi/Desktop/Lede課題一覧/Lede個人プロジェクト/project3/cram_school/all_cram_schools.csv', index=False)"
   ]
  },
  {
   "cell_type": "markdown",
   "id": "c25c528b-f193-4dc7-b883-fd5f41f878e8",
   "metadata": {},
   "source": [
    "## Extract prefecture and city names from addresses"
   ]
  },
  {
   "cell_type": "code",
   "execution_count": null,
   "id": "73ff0e05-e412-4c0f-a1da-6fd9c4f335f0",
   "metadata": {},
   "outputs": [],
   "source": [
    "import pandas as pd\n",
    "import re\n",
    "\n",
    "# CSV読み込み（パスを変更してください）\n",
    "df = pd.read_csv('/Users/yuta-uebayashi/Desktop/Lede課題一覧/Lede個人プロジェクト/project3/cram_school/all_cram_schools.csv')\n",
    "\n",
    "# 郵便番号をスキップして、都道府県と市区町村だけ抽出（郡は削除、スペースなし）\n",
    "def extract_region(address):\n",
    "    # 郵便番号を削除\n",
    "    address = re.sub(r'^〒?\\d{3}-\\d{4}\\s*', '', address.strip())\n",
    "\n",
    "    # 都道府県と市区町村の抽出\n",
    "    match = re.match(r'(東京都|北海道|(?:京都|大阪)府|.{2,3}県)\\s+(.+?[市区町村])', address)\n",
    "    if match:\n",
    "        pref = match.group(1)\n",
    "        city = match.group(2)\n",
    "        # 郡のみ除去（市・区・町・村は残す）\n",
    "        city_clean = re.sub(r'^.+郡', '', city)\n",
    "        return f\"{pref}{city_clean}\"\n",
    "    else:\n",
    "        return \"\"\n",
    "\n",
    "# 適用して \"Region\" 列を作成\n",
    "df[\"Region\"] = df[\"Address\"].apply(extract_region)\n",
    "\n",
    "# 確認\n",
    "print(df[[\"Address\", \"Region\"]].head())"
   ]
  },
  {
   "cell_type": "code",
   "execution_count": 70,
   "id": "84d676a2-a326-4cb5-a49c-5af0e03296a1",
   "metadata": {},
   "outputs": [],
   "source": [
    "df.to_csv('/Users/yuta-uebayashi/Desktop/Lede課題一覧/Lede個人プロジェクト/project3/cram_school/cleaned_all_cram_schools.csv', index=False)"
   ]
  },
  {
   "cell_type": "code",
   "execution_count": null,
   "id": "15486646-dc23-4d87-b757-c156fdcac99d",
   "metadata": {},
   "outputs": [],
   "source": []
  }
 ],
 "metadata": {
  "kernelspec": {
   "display_name": "Python 3 (ipykernel)",
   "language": "python",
   "name": "python3"
  },
  "language_info": {
   "codemirror_mode": {
    "name": "ipython",
    "version": 3
   },
   "file_extension": ".py",
   "mimetype": "text/x-python",
   "name": "python",
   "nbconvert_exporter": "python",
   "pygments_lexer": "ipython3",
   "version": "3.11.8"
  }
 },
 "nbformat": 4,
 "nbformat_minor": 5
}
