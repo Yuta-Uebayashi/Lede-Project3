{
 "cells": [
  {
   "cell_type": "markdown",
   "id": "d548bfb8-df1c-41f8-a641-f9472c6646ad",
   "metadata": {},
   "source": [
    "# Counting NPO Organizations by Prefecture\n",
    "\n",
    "This notebook analyzes a dataset of NPO (Non-Profit Organization) registrations in Japan.\n",
    "\n",
    "I aim to count the number of NPOs in each prefecture based on the \"Location\" column in the dataset.  \n",
    "The location string typically begins with the prefecture name, so we extract that part using a regular expression."
   ]
  },
  {
   "cell_type": "code",
   "execution_count": 9,
   "id": "2feb38f5-5f3f-491c-95b5-5e2b2b34cba4",
   "metadata": {},
   "outputs": [],
   "source": [
    "import pandas as pd\n",
    "\n",
    "df = pd.read_csv(\"all_NPOs_pandas.csv\")\n",
    "\n",
    "# 「所在地」列の先頭（都道府県名）だけ抽出\n",
    "df['Prefecture'] = df['主たる事務所の所在地'].str.extract(r'^(.+?[都道府県])')\n",
    "\n",
    "# 都道府県ごとにカウント\n",
    "npo_counts = df['Prefecture'].value_counts().sort_index()\n",
    "\n",
    "# 結果を表示\n",
    "npo_counts\n",
    "\n",
    "# CSVとして保存したい場合\n",
    "npo_counts.to_csv(\"npo_by_pref.csv\", header=['Prefecture'])"
   ]
  },
  {
   "cell_type": "code",
   "execution_count": null,
   "id": "3dbf871b-cdc3-4801-87b7-1ebc75cbf07a",
   "metadata": {},
   "outputs": [],
   "source": []
  }
 ],
 "metadata": {
  "kernelspec": {
   "display_name": "Python 3 (ipykernel)",
   "language": "python",
   "name": "python3"
  },
  "language_info": {
   "codemirror_mode": {
    "name": "ipython",
    "version": 3
   },
   "file_extension": ".py",
   "mimetype": "text/x-python",
   "name": "python",
   "nbconvert_exporter": "python",
   "pygments_lexer": "ipython3",
   "version": "3.11.8"
  }
 },
 "nbformat": 4,
 "nbformat_minor": 5
}
