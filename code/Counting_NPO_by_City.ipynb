{
 "cells": [
  {
   "cell_type": "markdown",
   "id": "6ecfe7db-eda8-4bca-a3f6-55320754b84d",
   "metadata": {},
   "source": [
    "## Aggregating and Exporting the Number of NPOs by Municipality\n",
    "\n",
    "This notebook extracts municipality names from NPO address data (CSV),  \n",
    "aggregates the number of NPOs for each municipality,  \n",
    "and outputs the result as a CSV file that can be used for mapping in QGIS."
   ]
  },
  {
   "cell_type": "code",
   "execution_count": 16,
   "id": "95336d80-6ebb-4e13-a02c-d5c762e62065",
   "metadata": {},
   "outputs": [],
   "source": [
    "import pandas as pd\n",
    "import re\n",
    "\n",
    "def extract_municipality(address):\n",
    "    if not isinstance(address, str):\n",
    "        return None\n",
    "\n",
    "    address = address.replace(\"　\", \"\").strip()\n",
    "\n",
    "    # 「都道府県」を削除\n",
    "    address = re.sub(r'^.+?[都道府県]', '', address)\n",
    "\n",
    "    # 「郡」を削除\n",
    "    address = re.sub(r'^.+?郡', '', address)\n",
    "\n",
    "    # 最初に出現する「市」「区」「町」「村」の直後までを抽出（それ以降は削除）\n",
    "    match = re.match(r'^(.+?[市区町村])', address)\n",
    "    if match:\n",
    "        return match.group(1)\n",
    "    return None\n",
    "\n",
    "df = pd.read_csv(\"all_NPOs_pandas.csv\")\n",
    "df[\"市町村\"] = df[\"主たる事務所の所在地\"].apply(extract_municipality)\n",
    "\n",
    "count_df = df[\"市町村\"].value_counts().reset_index()\n",
    "count_df.columns = [\"市町村\", \"NPO数\"]\n",
    "\n",
    "count_df.to_csv(\"npo_by_city.csv\", index=False)"
   ]
  },
  {
   "cell_type": "code",
   "execution_count": null,
   "id": "32155627-1f95-4277-a1e3-f89b947204cb",
   "metadata": {},
   "outputs": [],
   "source": []
  }
 ],
 "metadata": {
  "kernelspec": {
   "display_name": "Python 3 (ipykernel)",
   "language": "python",
   "name": "python3"
  },
  "language_info": {
   "codemirror_mode": {
    "name": "ipython",
    "version": 3
   },
   "file_extension": ".py",
   "mimetype": "text/x-python",
   "name": "python",
   "nbconvert_exporter": "python",
   "pygments_lexer": "ipython3",
   "version": "3.11.8"
  }
 },
 "nbformat": 4,
 "nbformat_minor": 5
}
